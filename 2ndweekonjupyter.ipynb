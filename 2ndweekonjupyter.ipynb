{
 "cells": [
  {
   "cell_type": "markdown",
   "metadata": {},
   "source": [
    "## Functions\n",
    "\n",
    "A function is defined with the def statement. Let’s do a doubling function."
   ]
  },
  {
   "cell_type": "code",
   "execution_count": 2,
   "metadata": {},
   "outputs": [
    {
     "name": "stdout",
     "output_type": "stream",
     "text": [
      "8 2.4 abcabc\n"
     ]
    }
   ],
   "source": [
    "def double(x):\n",
    "    \"This function multiplies its argument by two\" # what is this \"This is.....\" part? Does it comment out?\n",
    "    return x*2\n",
    "print(double(4), double(1.2), double(\"abc\")) # It even happens to work for strings!\n"
   ]
  },
  {
   "cell_type": "markdown",
   "metadata": {},
   "source": [
    "The double function takes only one parameter. Notice the docstring on the second line. It documents the purpose and usage of the function. Let’s try to access it.\n",
    "\n",
    "One paramater means \"return x*2\"? "
   ]
  },
  {
   "cell_type": "code",
   "execution_count": 17,
   "metadata": {},
   "outputs": [
    {
     "name": "stdout",
     "output_type": "stream",
     "text": [
      "This docstring is: This function multiplies its argument by two\n",
      "Help on function double in module __main__:\n",
      "\n",
      "double(x)\n",
      "    This function multiplies its argument by two\n",
      "\n"
     ]
    }
   ],
   "source": [
    "print(\"This docstring is:\", double.__doc__)\n",
    "help(double)   # Another way to access the doc string"
   ]
  },
  {
   "cell_type": "markdown",
   "metadata": {},
   "source": [
    "Most of Python’s builtin functions, classes, and modules should contain a docstring."
   ]
  },
  {
   "cell_type": "code",
   "execution_count": 18,
   "metadata": {},
   "outputs": [
    {
     "name": "stdout",
     "output_type": "stream",
     "text": [
      "Help on built-in function print in module builtins:\n",
      "\n",
      "print(...)\n",
      "    print(value, ..., sep=' ', end='\\n', file=sys.stdout, flush=False)\n",
      "    \n",
      "    Prints the values to a stream, or to sys.stdout by default.\n",
      "    Optional keyword arguments:\n",
      "    file:  a file-like object (stream); defaults to the current sys.stdout.\n",
      "    sep:   string inserted between values, default a space.\n",
      "    end:   string appended after the last value, default a newline.\n",
      "    flush: whether to forcibly flush the stream.\n",
      "\n"
     ]
    }
   ],
   "source": [
    "help(print)"
   ]
  },
  {
   "cell_type": "code",
   "execution_count": 20,
   "metadata": {},
   "outputs": [
    {
     "name": "stdout",
     "output_type": "stream",
     "text": [
      "25\n"
     ]
    }
   ],
   "source": [
    "def sum_of_squares(a,b):\n",
    "    \"Computes the sum of arguments squared\"\n",
    "    return a**2 + b**2   # a**2 is 3*3 , b**2 is 4*4...\n",
    "print(sum_of_squares(3, 4))"
   ]
  },
  {
   "cell_type": "markdown",
   "metadata": {},
   "source": [
    "Note the terminology: in the function definition the names a and b are called parameters of the function; in the function call, however, 3 and 4 are called arguments to the function."
   ]
  },
  {
   "cell_type": "markdown",
   "metadata": {},
   "source": [
    "It would be nice that the number of arguments could be arbitrary, not just two. We could pass a list to the function as a parameter."
   ]
  },
  {
   "cell_type": "code",
   "execution_count": 26,
   "metadata": {},
   "outputs": [
    {
     "name": "stdout",
     "output_type": "stream",
     "text": [
      "4\n",
      "45\n"
     ]
    }
   ],
   "source": [
    "def sum_of_squares(lst):\n",
    "    \"computes the sum of squares of elements in the list given as parameter\"\n",
    "    s=0\n",
    "    for x in lst:\n",
    "        s += x**2\n",
    "    return s\n",
    "print(sum_of_squares([-2]))\n",
    "print(sum_of_squares([-2,4,5]))  # Make sure the parenthesis"
   ]
  },
  {
   "cell_type": "markdown",
   "metadata": {},
   "source": [
    "This works perfectly! There is however some extra typing with the brackets around the lists. Let’s see if we can do better:"
   ]
  },
  {
   "cell_type": "code",
   "execution_count": 1,
   "metadata": {},
   "outputs": [
    {
     "name": "stdout",
     "output_type": "stream",
     "text": [
      "4\n",
      "45\n"
     ]
    }
   ],
   "source": [
    "def sum_of_squares(*t):\n",
    "    \"Computes the sum of squares of arbitrary number of arguments\"\n",
    "    s=0\n",
    "    for x in t:\n",
    "        s += x**2\n",
    "    return s\n",
    "print(sum_of_squares(-2))\n",
    "print(sum_of_squares(-2,4,5))"
   ]
  },
  {
   "cell_type": "markdown",
   "metadata": {},
   "source": [
    "The strange looking argument notation (the star) is called argument packing. It packs all the given positional arguments into a tuple t. We will encounter tuples again later, but it suffices now to say that tuples are immutable lists. With the for loop we can iterate through all the elements in the tuple.\n",
    "\n",
    "Conversely, there is also syntax for argument unpacking. It has confusingly exactly same notation as argument packing (star), but they are separated by the location where used. Packing happens in the parameter list of the functions definition, and unpacking happens where the function is called:"
   ]
  },
  {
   "cell_type": "code",
   "execution_count": 2,
   "metadata": {},
   "outputs": [
    {
     "name": "stdout",
     "output_type": "stream",
     "text": [
      "With list unpacked as arguments to the functions: 90\n"
     ]
    }
   ],
   "source": [
    "lst=[1,5,8]\n",
    "print(\"With list unpacked as arguments to the functions:\", sum_of_squares(*lst))\n",
    "# print(sum_of_squares(lst))    # Does not work correctly"
   ]
  },
  {
   "cell_type": "markdown",
   "metadata": {},
   "source": [
    "The second call failed because the function tried to raise the list of numbers to the second power. Inside the function body we have t=([1,5,8]), where the parentheses denote a tuple with one element, a list.\n",
    "\n",
    "In addition to positional arguments we have seen so far, a function call can also have named arguments. An example will explain this concept best:"
   ]
  },
  {
   "cell_type": "code",
   "execution_count": 4,
   "metadata": {},
   "outputs": [
    {
     "name": "stdout",
     "output_type": "stream",
     "text": [
      "First: 5 Second: 8 Third: 7\n"
     ]
    }
   ],
   "source": [
    "def named(a,b,c):\n",
    "    print(\"First:\", a, \"Second:\", b, \"Third:\", c)\n",
    "named(5, c=7, b=8)"
   ]
  },
  {
   "cell_type": "markdown",
   "metadata": {},
   "source": [
    "Note that the named arguments didn’t need to be in the same order as in the function definition. The named arguments must come after the positional arguments. For example, the following function call is illegal named(a=5, 7, 8).\n",
    "\n",
    "\n",
    "One can also specify an optional parameter by giving the parameter a default value. The parameters that have default values must come after those parameters that don’t. We saw that the parameters of the print function were of form print(value, ..., sep=' ', end='\\n', file=sys.stdout, flush=False). There were four parameters with default values. If some default values don’t suit us, we can give them in the function call using the name of the parameter:"
   ]
  },
  {
   "cell_type": "code",
   "execution_count": 7,
   "metadata": {},
   "outputs": [
    {
     "name": "stdout",
     "output_type": "stream",
     "text": [
      "1 -*- 2 -*- 3 |first -*- second -*- third |"
     ]
    }
   ],
   "source": [
    "print(1, 2, 3, end=' |', sep=' -*- ')\n",
    "print(\"first\", \"second\", \"third\", end=' |', sep=' -*- ')"
   ]
  },
  {
   "cell_type": "markdown",
   "metadata": {},
   "source": [
    "We did not need to specify all the parameters with default values, only those we wanted to change.\n",
    "\n",
    "Let’s go through another example of using parameters with default values:"
   ]
  },
  {
   "cell_type": "code",
   "execution_count": 11,
   "metadata": {},
   "outputs": [
    {
     "name": "stdout",
     "output_type": "stream",
     "text": [
      "5.0\n",
      "4.497941445275415\n"
     ]
    }
   ],
   "source": [
    "def length(*t, degree=2):\n",
    "    \"\"\"Computes the length of the vector given as parameter. By default, it computes\n",
    "    the Euclidean distance(degree==2)\"\"\"\n",
    "    s=0\n",
    "    for x in t:\n",
    "        s += abs(x)**degree\n",
    "    return s**(1/degree)\n",
    "print(length(-4,3))\n",
    "print(length(-4,3, degree=3))"
   ]
  },
  {
   "cell_type": "markdown",
   "metadata": {},
   "source": [
    "With the default parameter this is the Euclidean distance, and if 𝑝≠2 it is called p-norm.\n",
    "\n",
    "We saw that it was possible to use packing and unpacking of arguments with the * notation, when one wants to specify arbitrary number of positional arguments. This is also possible for arbitrary number of named arguments with the ** notation. We will talk about this more in the data structures section."
   ]
  },
  {
   "cell_type": "code",
   "execution_count": null,
   "metadata": {},
   "outputs": [],
   "source": []
  },
  {
   "cell_type": "markdown",
   "metadata": {},
   "source": [
    "## Visibility of variables"
   ]
  },
  {
   "cell_type": "markdown",
   "metadata": {},
   "source": [
    "Function definition creates a new namespace (also called local scope). Variables created inside this scope are not available from outside the function definition. Also, the function parameters are only visible inside the function definition. Variables that are not defined inside any function are called global variables.\n",
    "\n",
    "Global variable are readable also in local scopes, but an assignment creates a new local variable without rebinding the global variable. If we are inside a function, a local variable hides a global variable by the same name:"
   ]
  },
  {
   "cell_type": "code",
   "execution_count": 12,
   "metadata": {},
   "outputs": [
    {
     "name": "stdout",
     "output_type": "stream",
     "text": [
      "3\n",
      "2\n"
     ]
    }
   ],
   "source": [
    "i=2           # global variable\n",
    "def f():\n",
    "    i=3       # this creates a new variable, it does not rebind the global i\n",
    "    print(i)  # This will print 3\n",
    "f()\n",
    "print(i)      # This will print 2"
   ]
  },
  {
   "cell_type": "markdown",
   "metadata": {},
   "source": [
    "If you really need to rebind a global variable from a function, use the global statement. Example:"
   ]
  },
  {
   "cell_type": "code",
   "execution_count": 13,
   "metadata": {},
   "outputs": [
    {
     "name": "stdout",
     "output_type": "stream",
     "text": [
      "5\n",
      "5\n"
     ]
    }
   ],
   "source": [
    "i=2\n",
    "def f():\n",
    "    global i \n",
    "    i=5          # rebind the global i variable\n",
    "    print(i)     # This will print 5\n",
    "f()\n",
    "print(i)         # This will print 5"
   ]
  },
  {
   "cell_type": "markdown",
   "metadata": {},
   "source": [
    "Unlike languages like C or C++, Python allows defining a function inside another function. This nested function will have nested scope:"
   ]
  },
  {
   "cell_type": "code",
   "execution_count": 15,
   "metadata": {},
   "outputs": [
    {
     "name": "stdout",
     "output_type": "stream",
     "text": [
      "3\n",
      "3\n"
     ]
    }
   ],
   "source": [
    "def f():            # outer function\n",
    "    b=2\n",
    "    def g():        # inner function\n",
    "        #nonlocal b # without this nonlocal statement,\n",
    "        b=3         # this will create a new local bariable\n",
    "        print(b)\n",
    "    g()\n",
    "    print(b)\n",
    "f()\n"
   ]
  },
  {
   "cell_type": "markdown",
   "metadata": {},
   "source": [
    "Try first running the above cell and see the result. Then uncomment the nonlocal stamement and run the cell again. The global and nonlocal statements are similar. The first will force a variable refer to a global variable, and the second will force a variable to refer to the variable in the nearest outer scope (but not the global scope)."
   ]
  },
  {
   "cell_type": "markdown",
   "metadata": {},
   "source": [
    "# Exercise 6 (triple square)\n",
    "\n",
    "Write two functions: triple and square. Function triple multiplies its parameter by three. Function square raises its parameter to the power of two. For example, we have equalities triple(5)==15 and square(5)==25.\n",
    "\n",
    "Part 1.\n",
    "\n",
    "In the main function write a for loop that iterates through values 1 to 10, and for each value prints its triple and its square. The output should be as follows:\n",
    "\n",
    "triple(1)==3 square(1)==1\n",
    "triple(2)==6 square(2)==4\n",
    "..."
   ]
  },
  {
   "cell_type": "code",
   "execution_count": 48,
   "metadata": {},
   "outputs": [
    {
     "ename": "NameError",
     "evalue": "name 'x' is not defined",
     "output_type": "error",
     "traceback": [
      "\u001b[0;31m---------------------------------------------------------------------------\u001b[0m",
      "\u001b[0;31mNameError\u001b[0m                                 Traceback (most recent call last)",
      "\u001b[0;32m<ipython-input-48-cb642b855b26>\u001b[0m in \u001b[0;36m<module>\u001b[0;34m\u001b[0m\n\u001b[0;32m----> 1\u001b[0;31m \u001b[0mx\u001b[0m \u001b[0;32min\u001b[0m \u001b[0;34m(\u001b[0m\u001b[0;36m1\u001b[0m\u001b[0;34m,\u001b[0m\u001b[0;36m11\u001b[0m\u001b[0;34m)\u001b[0m\u001b[0;34m\u001b[0m\u001b[0;34m\u001b[0m\u001b[0m\n\u001b[0m\u001b[1;32m      2\u001b[0m \u001b[0;34m\u001b[0m\u001b[0m\n\u001b[1;32m      3\u001b[0m \u001b[0;32mdef\u001b[0m \u001b[0mtriples\u001b[0m\u001b[0;34m(\u001b[0m\u001b[0mx\u001b[0m\u001b[0;34m)\u001b[0m\u001b[0;34m:\u001b[0m\u001b[0;34m\u001b[0m\u001b[0;34m\u001b[0m\u001b[0m\n\u001b[1;32m      4\u001b[0m     \u001b[0mx\u001b[0m\u001b[0;34m=\u001b[0m\u001b[0;36m3\u001b[0m\u001b[0;34m*\u001b[0m\u001b[0my\u001b[0m\u001b[0;34m\u001b[0m\u001b[0;34m\u001b[0m\u001b[0m\n\u001b[1;32m      5\u001b[0m     \u001b[0;32mreturn\u001b[0m\u001b[0;34m(\u001b[0m\u001b[0my\u001b[0m\u001b[0;34m)\u001b[0m\u001b[0;34m\u001b[0m\u001b[0;34m\u001b[0m\u001b[0m\n",
      "\u001b[0;31mNameError\u001b[0m: name 'x' is not defined"
     ]
    }
   ],
   "source": [
    "def triples(x):\n",
    "    result = []\n",
    "    return(y)\n",
    "print(y)"
   ]
  },
  {
   "cell_type": "code",
   "execution_count": null,
   "metadata": {},
   "outputs": [],
   "source": []
  },
  {
   "cell_type": "code",
   "execution_count": 6,
   "metadata": {},
   "outputs": [
    {
     "name": "stdout",
     "output_type": "stream",
     "text": [
      "3\n"
     ]
    }
   ],
   "source": [
    "# Assigning the value of 3 to the variable x\n",
    "\n",
    "# x = 3\n",
    "\n",
    "# y = x+3\n",
    "\n",
    "# x+3 = y 　<- SyntaxError: can't assign to operator\n",
    "\n",
    "# x = x+3   <- This can be rephrased as x += 3\n",
    "\n",
    "# x = x*3   <- This can be rephrased as x *= 3\n",
    "\n",
    "\n",
    "# identity function\n",
    "def triple(x):    \n",
    "    # x *= 3\n",
    "    return x\n",
    "# calling the function print with the argument x \n",
    "print(x)\n",
    "\n",
    "\n",
    "\n"
   ]
  },
  {
   "cell_type": "code",
   "execution_count": 7,
   "metadata": {},
   "outputs": [
    {
     "name": "stdout",
     "output_type": "stream",
     "text": [
      "triple(1)==3 square(1)==1\n",
      "triple(2)==6 square(2)==4\n",
      "triple(3)==9 square(3)==9\n",
      "triple(4)==12 square(4)==16\n",
      "triple(5)==15 square(5)==25\n",
      "triple(6)==18 square(6)==36\n",
      "triple(7)==21 square(7)==49\n",
      "triple(8)==24 square(8)==64\n",
      "triple(9)==27 square(9)==81\n",
      "triple(10)==30 square(10)==100\n"
     ]
    }
   ],
   "source": [
    "\n",
    "def triple(q):\n",
    "    #print(\"I have been called with argument\", q )\n",
    "    q *= 3   # q = q * 3\n",
    "    #print(\"I will return\", q)\n",
    "    return q\n",
    "\n",
    "def square(s):\n",
    "\n",
    "    s = s **2\n",
    "    return s\n",
    "\n",
    "\n",
    "for x in range(1,11):\n",
    "\n",
    "    r = triple(x)\n",
    "    r2 = square(x)\n",
    "\n",
    "    #print('triple(', x,')==', r, 'square(', x, ')==', r2)\n",
    "    # to_show = f'triple({x})=={r} square({x})=={r2}'\n",
    "    print(f'triple({x})=={r} square({x})=={r2}')\n",
    "    # print('The square of ', x, 'is', r2)\n"
   ]
  },
  {
   "cell_type": "code",
   "execution_count": null,
   "metadata": {},
   "outputs": [],
   "source": []
  },
  {
   "cell_type": "markdown",
   "metadata": {},
   "source": [
    "# Exercise 7 (areas of shapes)"
   ]
  },
  {
   "cell_type": "markdown",
   "metadata": {},
   "source": [
    "Create a program that can compute the areas of three shapes, triangles, rectangles and circles, when their dimensions are given.\n",
    "\n",
    "An endless loop should ask for which shape you want the area be calculated. An empty string as input will exit the loop. If the user gives a string that is none of the given shapes, the message “unknown shape!” should be printed. Then it will ask for dimensions for that particular shape. When all the necessary dimensions are given, it prints the area, and starts the loop all over again. Use format specifier f for the area.\n",
    "\n",
    "What happens if you give incorrect dimensions, like giving string “aa” as radius? You don’t have to check for errors in the input.\n",
    "\n",
    "\n",
    "\n",
    "Example interaction:\n",
    "\n",
    "\n",
    "Choose a shape (triangle, rectangle, circle): triangle\n",
    "Give base of the triangle: 20\n",
    "Give height of the triangle: 5\n",
    "The area is 50.000000\n",
    "Choose a shape (triangle, rectangle, circle): rectangel\n",
    "Unknown shape!\n",
    "Choose a shape (triangle, rectangle, circle): rectangle\n",
    "Give width of the rectangle: 20\n",
    "Give height of the rectangle: 4\n",
    "The area is 80.000000\n",
    "Choose a shape (triangle, rectangle, circle): circle\n",
    "Give radius of the circle: 10\n",
    "The area is 314.159265\n",
    "Choose a shape (triangle, rectangle, circle):\n",
    "\n"
   ]
  },
  {
   "cell_type": "code",
   "execution_count": null,
   "metadata": {},
   "outputs": [],
   "source": []
  },
  {
   "cell_type": "code",
   "execution_count": null,
   "metadata": {},
   "outputs": [
    {
     "name": "stdout",
     "output_type": "stream",
     "text": [
      "Chose a shape (triangle, rectangle, circle): triangle\n",
      "Give base of the triangle: 4\n",
      "Give height of the triangle: 10\n",
      "The area is 20.000000\n"
     ]
    }
   ],
   "source": [
    "\n",
    "import math\n",
    "\n",
    "def area_of_triangle(b, h):\n",
    "\n",
    "    t = b * h * 1 / 2\n",
    "\n",
    "    return f'The area is {t:6f}'\n",
    "\n",
    "\n",
    "def area_of_rectangle(b, h):\n",
    "\n",
    "    r = b * h\n",
    "\n",
    "    return f'The area is {r:6f}'\n",
    "\n",
    "def area_of_circle(r):\n",
    "\n",
    "    c = r ** 2 * math.pi\n",
    "\n",
    "    return f'The area is {c:6f}'\n",
    "\n",
    "# type_of_shape = ['triangle', 'rectangle','circle']\n",
    "\n",
    "while True:\n",
    "\n",
    "    type_of_shape = input ('Chose a shape (triangle, rectangle, circle): ')\n",
    "\n",
    "    if type_of_shape == 'triangle':\n",
    "\n",
    "        base_of_triangle = input('Give base of the triangle: ')\n",
    "\n",
    "        height_of_triangle = input('Give height of the triangle: ')\n",
    "\n",
    "        area = area_of_triangle(int(base_of_triangle), int(height_of_triangle))\n",
    "        print(area)\n",
    "\n",
    "\n",
    "    elif type_of_shape == 'rectangle':\n",
    "\n",
    "        base_of_rectangle = input('Give base of the rectangle: ')\n",
    "\n",
    "        height_of_rectangle = input('Give height of the rectangle: ')\n",
    "\n",
    "        area = area_of_rectangle(int(base_of_rectangle), int(height_of_rectangle))\n",
    "        print(area)\n",
    "\n",
    "\n",
    "    elif type_of_shape == 'circle':\n",
    "\n",
    "        radius_of_circle = input('Give radius of the circle: ')\n",
    "\n",
    "        area = area_of_circle(int(radius_of_circle))\n",
    "        print(area)\n",
    "\n",
    "    else:\n",
    "        print('Unknown shape!!')"
   ]
  },
  {
   "cell_type": "markdown",
   "metadata": {},
   "source": [
    "Chose a shape (triangle, rectangle, circle):circle\n",
    "circle*\n",
    "Give radius of the circle:10\n",
    "10*\n",
    "The area is 314.1592653589793\n",
    "\n",
    "\n",
    "how can I take out * part from the input?"
   ]
  },
  {
   "cell_type": "markdown",
   "metadata": {},
   "source": [
    "# Data structures\n",
    "\n",
    "The main data structures in Python are strings, lists, tuples, dictionaries, and sets. We saw some examples of lists, when we discussed for loops. And we saw briefly tuples when we introduced argument packing and unpacking. Let’s get into more details now.\n",
    "\n",
    "\n",
    "\n",
    "## Sequences\n",
    "\n",
    "A list contains arbitrary number of elements (even zero) that are stored in sequential order. The elements are separated by commas and written between brackets. The elements don’t need to be of the same type. An example of a list with four values:"
   ]
  },
  {
   "cell_type": "code",
   "execution_count": 5,
   "metadata": {},
   "outputs": [
    {
     "data": {
      "text/plain": [
       "[2, 100, 'hello', 1.0]"
      ]
     },
     "execution_count": 5,
     "metadata": {},
     "output_type": "execute_result"
    }
   ],
   "source": [
    "[2, 100, 'hello', 1.0]"
   ]
  },
  {
   "cell_type": "markdown",
   "metadata": {},
   "source": [
    "A tuple is fixed length, immutable, and ordered container. Elements of tuple are separated by commas and written between parentheses. Examples of tuples:"
   ]
  },
  {
   "cell_type": "code",
   "execution_count": 6,
   "metadata": {},
   "outputs": [
    {
     "data": {
      "text/plain": [
       "(1, 'hello', 1.0)"
      ]
     },
     "execution_count": 6,
     "metadata": {},
     "output_type": "execute_result"
    }
   ],
   "source": [
    "(3,)                  # a singleton\n",
    "(3,1)                 # a pair\n",
    "(1, 'hello', 1.0)     # a triple"
   ]
  },
  {
   "cell_type": "markdown",
   "metadata": {},
   "source": [
    "Note tht ediffrence between (3) and (3,). Becase the parentheses can also be used to group expressions, the first one difines an interger, but the second one defines a tuple with single element."
   ]
  },
  {
   "cell_type": "markdown",
   "metadata": {},
   "source": [
    "As we can see, both lists and tuples can contain values of different type.\n",
    "\n",
    "List, tuples, and strings are called sequences in Python, and they have several commonalities:\n",
    "\n",
    "\n",
    "\n",
    "*their length can be queried with the len function\n",
    "\n",
    "*min and max function find the minimum and maximum element of a sequence, and sum adds all the elements of numbers together\n",
    "\n",
    "*Sequences can be concatenated with the + operator, and repeated with the * operator: \"hi\"*3==\"hihihi\"\n",
    "\n",
    "*Since sequences are ordered, we can refer to the elements of a sequences by integers using the indexing notation: \"abcd\"[2] == \"c\"\n",
    "\n",
    "*Note that the indexing begins from 0\n",
    "\n",
    "*Negative integers start indexing from the end: -1 refers to the last element, -2 refers to the second last, and so on\n",
    "\n",
    "\n",
    "\n",
    "Above we saw that we can access a single element of a sequence using indexing. If we want a subsequence of a sequence, we can use the slicing syntax. A slice consists of elements of the original sequence, and it is itself a sequence as well. A simple slice is a range of elements:"
   ]
  },
  {
   "cell_type": "code",
   "execution_count": 7,
   "metadata": {},
   "outputs": [
    {
     "data": {
      "text/plain": [
       "'bcd'"
      ]
     },
     "execution_count": 7,
     "metadata": {},
     "output_type": "execute_result"
    }
   ],
   "source": [
    "s=\"abcdefg\"\n",
    "s[1:4]  "
   ]
  },
  {
   "cell_type": "markdown",
   "metadata": {},
   "source": [
    "Note that Python ranges exclude the last index. The generic form of a slice is sequence[first:last:step].\n",
    "If any of the three parameters are left out, they are set to default values as follows: first=O, last=len(L), step=1. So, for instance\"abcde\"[1:]==\"bcde\". The step parameter selects elements that are step distance apart from each other. For example:"
   ]
  },
  {
   "cell_type": "code",
   "execution_count": 8,
   "metadata": {},
   "outputs": [
    {
     "name": "stdout",
     "output_type": "stream",
     "text": [
      "[0, 3, 6, 9]\n"
     ]
    }
   ],
   "source": [
    "print([0,1,2,3,4,5,6,7,8,9][::3])"
   ]
  },
  {
   "cell_type": "code",
   "execution_count": null,
   "metadata": {},
   "outputs": [],
   "source": []
  },
  {
   "cell_type": "markdown",
   "metadata": {},
   "source": [
    "## Exercise 8 (solve quadratic)\n",
    "\n",
    "In mathematics, the quadratic equation 𝑎𝑥2+𝑏𝑥+𝑐=0 can be solved with the formula 𝑥=−𝑏±𝑏2−4𝑎𝑐√2𝑎.\n",
    "\n",
    "Write a function solve_quadratic, that returns both solutions of a generic quadratic as a pair (2-tuple) when the coefficients are given as parameters. It should work like this:\n",
    "\n",
    "    print(solve_quadrotic(1,-3,2))\n",
    "    (2.0,1.0)\n",
    "    print(solve_quadrotic(1,2,1))\n",
    "    (-1.0,-1.0)\n",
    "    \n",
    "You may want to use the math.sqrt function from the math module in your solution. Test that your function works in the main function!"
   ]
  },
  {
   "cell_type": "code",
   "execution_count": 12,
   "metadata": {},
   "outputs": [
    {
     "name": "stdout",
     "output_type": "stream",
     "text": [
      "a= 1\n",
      "b= -3\n",
      "c= 2\n",
      "This esuation has two solutions: 2.0 or 1.0\n"
     ]
    }
   ],
   "source": [
    "import math\n",
    "\n",
    "a = int(input('a= '))\n",
    "b = int(input('b= '))\n",
    "c = int(input('c= '))\n",
    "\n",
    "solve_quadratic = b**2-4*a*c\n",
    "\n",
    "\n",
    "if  solve_quadratic < 0:\n",
    "    print('The equation has no real solution')\n",
    "    \n",
    "elif solve_quadratic == 0:\n",
    "    x = (-b)/(2*a)\n",
    "    \n",
    "else:\n",
    "    x1 = (-b+math.sqrt(solve_quadratic))/(2*a)\n",
    "    x2 = (-b-math.sqrt(solve_quadratic))/(2*a)\n",
    "    print('This esuation has two solutions:', x1, 'or', x2)"
   ]
  },
  {
   "cell_type": "markdown",
   "metadata": {},
   "source": [
    "## Modifying lists\n",
    "\n",
    "We can assign values to elements of a list by indexing or by slicing. An example:"
   ]
  },
  {
   "cell_type": "code",
   "execution_count": 1,
   "metadata": {},
   "outputs": [
    {
     "name": "stdout",
     "output_type": "stream",
     "text": [
      "[11, 13, 10, 32]\n"
     ]
    }
   ],
   "source": [
    "L=[11,13,22,32]\n",
    "L[2]=10           # Changes the third element... which is 22 -> 10\n",
    "print(L)"
   ]
  },
  {
   "cell_type": "markdown",
   "metadata": {},
   "source": [
    "Or we can assign a list to a slice:"
   ]
  },
  {
   "cell_type": "code",
   "execution_count": 2,
   "metadata": {},
   "outputs": [
    {
     "name": "stdout",
     "output_type": "stream",
     "text": [
      "[11, 4, 32]\n"
     ]
    }
   ],
   "source": [
    "L[1:3]=[4]\n",
    "print(L)"
   ]
  },
  {
   "cell_type": "markdown",
   "metadata": {},
   "source": [
    "We can also modify a list by using mutating methods of the list class, namely the methods appen, extend, insert, remove, pop, reserse, and sort. Try Python's help functionality to find more about these methods: e.g. help(list.extend) or help(list).\n",
    "\n",
    "### Note that we cannot perform these modifications on tuples or strings since they are immutable \n"
   ]
  },
  {
   "cell_type": "markdown",
   "metadata": {},
   "source": [
    "## Generating numerical sewuences\n",
    "\n",
    "Trivial list can be tedious to write: [0,1,2,3,4,5,6]. The function range creates numeric ranges automatically. The above sequence can be generated with the function call range(7). Note again that end value is not included in the sequence. An example of using the range function:"
   ]
  },
  {
   "cell_type": "code",
   "execution_count": 3,
   "metadata": {},
   "outputs": [
    {
     "name": "stdout",
     "output_type": "stream",
     "text": [
      "0\n",
      "1\n",
      "2\n",
      "range(0, 3)\n"
     ]
    }
   ],
   "source": [
    "L=range(3)\n",
    "for i in L:\n",
    "    print(i)\n",
    "# Note taht L is not a list !\n",
    "print(L)"
   ]
  },
  {
   "cell_type": "markdown",
   "metadata": {},
   "source": [
    "So L is not a list, but it is a sequence. We can for instance access its last element with L[-1]. If really needed, then it can be coverted to be a list with the list constructor:"
   ]
  },
  {
   "cell_type": "code",
   "execution_count": 5,
   "metadata": {},
   "outputs": [
    {
     "name": "stdout",
     "output_type": "stream",
     "text": [
      "[0, 1, 2, 3, 4, 5, 6, 7, 8, 9]\n",
      "range(0, 10)\n"
     ]
    }
   ],
   "source": [
    "L=range(10)\n",
    "print(list(L))\n",
    "\n",
    "print(L)"
   ]
  },
  {
   "cell_type": "markdown",
   "metadata": {},
   "source": [
    "### Note that using a range consumes less memory than the corresponding list. This is because in a list all the elements are stored in the memory, whereas the range generates the requested elements only when needed. For example, when the for loop asks for the next element form the range at each iteration, only a singe element from the range exists in memory at the same time. This makes a big diffrence when using large ranges, like range(1000000).\n",
    "\n",
    "The range function works in similar fashion as slice. So, for instance the step of the sequence can be given:"
   ]
  },
  {
   "cell_type": "code",
   "execution_count": 6,
   "metadata": {},
   "outputs": [
    {
     "name": "stdout",
     "output_type": "stream",
     "text": [
      "[0, 2, 4, 6]\n"
     ]
    }
   ],
   "source": [
    "print(list(range(0, 7, 2)))"
   ]
  },
  {
   "cell_type": "markdown",
   "metadata": {},
   "source": [
    "## Sorting sequences\n",
    "\n",
    "In Python there are two ways to sort sequences. The sort method modifies the original list, whereas the sorted function returns a new sorted list and leaves the original intact. A couple of examples will demonstrate this:"
   ]
  },
  {
   "cell_type": "code",
   "execution_count": 9,
   "metadata": {},
   "outputs": [
    {
     "name": "stdout",
     "output_type": "stream",
     "text": [
      "[1, 3, 5, 7]\n",
      "[1, 3, 6, 6, 7]\n",
      "[6, 1, 7, 3, 6]\n"
     ]
    }
   ],
   "source": [
    "L=[5,3,7,1]\n",
    "L.sort()     # here we call the fort method of the object L\n",
    "print(L)\n",
    "\n",
    "L2=[6,1,7,3,6]\n",
    "print(sorted(L2))\n",
    "print(L2)"
   ]
  },
  {
   "cell_type": "markdown",
   "metadata": {},
   "source": [
    "The parameter reverse=True can be given(both to sort and sorted) to get descending order of elements:"
   ]
  },
  {
   "cell_type": "code",
   "execution_count": 10,
   "metadata": {},
   "outputs": [
    {
     "name": "stdout",
     "output_type": "stream",
     "text": [
      "[7, 5, 3, 1]\n"
     ]
    }
   ],
   "source": [
    "L=[5,3,7,1]\n",
    "print(sorted(L, reverse=True))"
   ]
  },
  {
   "cell_type": "markdown",
   "metadata": {},
   "source": [
    "## Exercise 9 (merge)\n",
    "\n",
    "Suppose we have two lists L1 and L2 that contain integers which are sorted in ascending order. Create a function merge that gets these lists as parameters and returns a new sorted list L that has all the elements of L1 and L2. So, len(L) should equal to len(L1)+len(L2). Do this using the fact that both lists are already sorted. You can’t use the sorted function or the sort method in implementing the merge method. You can however use these sorted in the main function for creating inputs to the merge function. Test with a couple of examples in the main function that your solution works correctly.\n",
    "\n",
    "Note: In Python argument lists are passed by reference to the function, they are not copied! Make sure you don’t modify the original lists of the caller."
   ]
  },
  {
   "cell_type": "code",
   "execution_count": 14,
   "metadata": {},
   "outputs": [
    {
     "name": "stdout",
     "output_type": "stream",
     "text": [
      "1 2 3 4 5 6 7 8 9 10 11 12 13 14 15 16 17 18 19 20 "
     ]
    }
   ],
   "source": [
    "import math\n",
    "\n",
    "L1 = [1,2,3,4,5,6,7,8,9,10]\n",
    "\n",
    "L2 = [11,12,13,14,15,16,17,18,19,20]\n",
    "\n",
    "L = L1 + L2\n",
    "\n",
    "def marge_Ls(L1,L2):\n",
    "    \n",
    "    L = len(L1)+len(L2)\n",
    "    \n",
    "    return L\n",
    "\n",
    "for i in L:\n",
    "    print(i, end=\" \")"
   ]
  },
  {
   "cell_type": "code",
   "execution_count": null,
   "metadata": {},
   "outputs": [],
   "source": []
  },
  {
   "cell_type": "markdown",
   "metadata": {},
   "source": [
    "## Exercise 10 (detect ranges)\n",
    "\n",
    "Create a function named detect_ranges that gets a list of integers as a parameter. The function should then sort this list, and transform the list into another list where pairs are used for all the detected intervals. So 3,4,5,6 is replaced by the pair (3,7). Numbers that are not part of any interval result just single numbers. The resulting list consists of these numbers and pairs, separated by commas. An example of how this function works:\n",
    "\n",
    "    print(detect_ranges([2,5,4,8,12,6,7,10,13]))\n",
    "    [2,(4,9),10,(12,14)]\n",
    "    \n",
    "Note that the second element of the pair does not belong to the range. This is consistent with the way Python’s range function works. You may assume that no element in the input list appears multiple times."
   ]
  },
  {
   "cell_type": "code",
   "execution_count": 10,
   "metadata": {},
   "outputs": [
    {
     "name": "stdout",
     "output_type": "stream",
     "text": [
      "0 2\n",
      "1 4\n",
      "2 5\n",
      "3 6\n",
      "4 7\n",
      "5 8\n",
      "6 10\n",
      "7 12\n",
      "8 13\n"
     ]
    }
   ],
   "source": [
    "\n",
    "detect_ranges = [2,5,4,8,12,6,7,10,13]\n",
    "\n",
    "\n",
    "\n",
    "# # #def detect_ranges: \n",
    "\n",
    "# #     (sorted(detect_ranges))    <- range(2, 5) replace \n",
    "#                                     ^meaning 3,4,5,6 are replaced by pare of (4,7) \n",
    "#                                     Also, \n",
    "\n",
    "my_sorted_list = sorted(detect_ranges)\n",
    "\n",
    "# print(my_sorted_list)\n",
    "\n",
    "for i in range(len(my_sorted_list)):\n",
    "    \n",
    "    vi= my_sorted_list[i]\n",
    "    \n",
    "    \n",
    "    print(i, vi)\n",
    "    \n",
    "    # if the number index i is number is contiguous to the next number \n",
    "        # show the contiguous numbers with only its lower and higher number\n",
    "        \n",
    "    # if i in     \n",
    "    \n",
    "    # if the number index i is number is not contiguous to the next number \n",
    "    \n",
    "    # print(i, end=\" \")\n",
    "\n",
    "\n",
    "\n",
    "\n",
    "#print(range(2,5) in (detect_ranges))\n"
   ]
  },
  {
   "cell_type": "code",
   "execution_count": null,
   "metadata": {},
   "outputs": [],
   "source": []
  },
  {
   "cell_type": "code",
   "execution_count": null,
   "metadata": {},
   "outputs": [],
   "source": []
  },
  {
   "cell_type": "code",
   "execution_count": 14,
   "metadata": {},
   "outputs": [
    {
     "name": "stdout",
     "output_type": "stream",
     "text": [
      "False\n"
     ]
    }
   ],
   "source": [
    "def detect_ranges(i):\n",
    "    return sorted(i) == list(range(min(i), max(i)+1)) \n",
    "\n",
    "ist = [2, 5, 4, 8, 12, 6, 7, 10, 13]\n",
    "\n",
    "print(detect_ranges(ist)) "
   ]
  }
 ],
 "metadata": {
  "kernelspec": {
   "display_name": "Python 3",
   "language": "python",
   "name": "python3"
  },
  "language_info": {
   "codemirror_mode": {
    "name": "ipython",
    "version": 3
   },
   "file_extension": ".py",
   "mimetype": "text/x-python",
   "name": "python",
   "nbconvert_exporter": "python",
   "pygments_lexer": "ipython3",
   "version": "3.7.7"
  }
 },
 "nbformat": 4,
 "nbformat_minor": 4
}
