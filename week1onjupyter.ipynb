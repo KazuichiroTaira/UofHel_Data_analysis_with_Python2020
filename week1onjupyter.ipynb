{
 "cells": [
  {
   "cell_type": "code",
   "execution_count": 1,
   "metadata": {},
   "outputs": [
    {
     "name": "stdout",
     "output_type": "stream",
     "text": [
      "Hello world2!\n"
     ]
    }
   ],
   "source": [
    "print(\"Hello world2!\")\n"
   ]
  },
  {
   "cell_type": "code",
   "execution_count": 2,
   "metadata": {},
   "outputs": [
    {
     "name": "stdout",
     "output_type": "stream",
     "text": [
      "Hello Aurélien How are you?\n"
     ]
    }
   ],
   "source": [
    "print(\"Hello\", \"Aurélien\", \"How are you?\")"
   ]
  },
  {
   "cell_type": "code",
   "execution_count": 3,
   "metadata": {},
   "outputs": [
    {
     "name": "stdout",
     "output_type": "stream",
     "text": [
      "1 plus 2 equals 3\n"
     ]
    }
   ],
   "source": [
    "print(1,\"plus\",2 , \"equals\", 1+2)"
   ]
  },
  {
   "cell_type": "code",
   "execution_count": 6,
   "metadata": {},
   "outputs": [
    {
     "name": "stdout",
     "output_type": "stream",
     "text": [
      "Give me your name: Jack\n",
      "Hello, Jack\n"
     ]
    }
   ],
   "source": [
    "name=input(\"Give me your name: \")\n",
    "print(\"Hello,\", name)"
   ]
  },
  {
   "cell_type": "markdown",
   "metadata": {},
   "source": [
    "In the example below, the string entered by the user is stored the variable name. Try executing the program in the interactive notebook by pressing control-enter!"
   ]
  },
  {
   "cell_type": "code",
   "execution_count": 8,
   "metadata": {},
   "outputs": [
    {
     "name": "stdout",
     "output_type": "stream",
     "text": [
      "Hello\n",
      "Hello\n",
      "Hello\n",
      "Bye!\n"
     ]
    }
   ],
   "source": [
    "for i in range(3):\n",
    "    print(\"Hello\")\n",
    "print(\"Bye!\")"
   ]
  },
  {
   "cell_type": "markdown",
   "metadata": {},
   "source": [
    "The range(3) expression above actually results with the sequence of integers 0, 1, and 2. So, the range is a half-open interval with the end point excluded from the range. In general, expression range(n) gives integers 0, 1, 2, …, n-1. Modify the above program to make it also print the value of variable i at each iteration. Rerun the code with control-enter."
   ]
  },
  {
   "cell_type": "markdown",
   "metadata": {},
   "source": [
    "Exercise 2 (compliment)"
   ]
  },
  {
   "cell_type": "code",
   "execution_count": null,
   "metadata": {},
   "outputs": [],
   "source": [
    "from?=input(\"Where are you from?: \") \n",
    "print((\"I have heard that\"), Where_are_you_from, (\"is a beautiful country\"))"
   ]
  },
  {
   "cell_type": "code",
   "execution_count": null,
   "metadata": {},
   "outputs": [],
   "source": [
    "### NG words - Already defined by Python: def, from, none, import, ... lot..!!! also ?,! or "
   ]
  },
  {
   "cell_type": "code",
   "execution_count": 25,
   "metadata": {},
   "outputs": [
    {
     "name": "stdout",
     "output_type": "stream",
     "text": [
      "Where is your home_county: FI\n",
      "I have heard that FI is a beautiful country \n"
     ]
    }
   ],
   "source": [
    "home_country=input(\"Where is your home_county: \")\n",
    "print((\"I have heard that\"), home_country, (\"is a beautiful country \"))"
   ]
  },
  {
   "cell_type": "markdown",
   "metadata": {},
   "source": [
    "Still it is not what shold be looks like on the examples"
   ]
  },
  {
   "cell_type": "code",
   "execution_count": 1,
   "metadata": {},
   "outputs": [
    {
     "name": "stdout",
     "output_type": "stream",
     "text": [
      "Where are you from?: Finland \n",
      "I have heard that Finland  is a beautiful country\n"
     ]
    }
   ],
   "source": [
    "Where_are_you_from=input(\"Where are you from?: \") \n",
    "print((\"I have heard that\"), Where_are_you_from, (\"is a beautiful country\"))"
   ]
  },
  {
   "cell_type": "markdown",
   "metadata": {},
   "source": [
    "Correct code is using lope with range and variable."
   ]
  },
  {
   "cell_type": "code",
   "execution_count": 29,
   "metadata": {},
   "outputs": [
    {
     "name": "stdout",
     "output_type": "stream",
     "text": [
      "Where are you from?: Finland \n",
      "I have heard that Finland  is a beautiful country\n",
      "Where are you from?: Japan\n",
      "I have heard that Japan is a beautiful country\n"
     ]
    }
   ],
   "source": [
    "for _ in range(2):\n",
    "    Where_are_you_from=input(\"Where are you from?: \") \n",
    "    print((\"I have heard that\"), Where_are_you_from, (\"is a beautiful country\"))"
   ]
  },
  {
   "cell_type": "code",
   "execution_count": null,
   "metadata": {},
   "outputs": [],
   "source": []
  },
  {
   "cell_type": "markdown",
   "metadata": {},
   "source": [
    "Exercise 3 (multiplication)"
   ]
  },
  {
   "cell_type": "markdown",
   "metadata": {},
   "source": [
    "for _ in range(10):\n",
    "    four_multilied_by=input(\"4 multiplied by: \")\n",
    "    \n",
    "    print((\"4 multipies by\", \"(n+1)\", four_multilied_by , \"is\" 4*n+1))\n",
    "    \n",
    "    \n",
    "File \"<ipython-input-5-1ca0d04c76bc>\", line 4\n",
    "    print((\"4 multipies by\", \"(n+1)\", four_multilied_by , \"is\" range(10))\n",
    "                                                                   ^\n",
    "SyntaxError: invalid syntax\n",
    "\n",
    "    \n",
    "    I dont know what to do...."
   ]
  },
  {
   "cell_type": "markdown",
   "metadata": {},
   "source": [
    "I had to cheat!! https://www.programiz.com/python-programming/online-compiler/?ref=7443c4dd\n",
    "\n",
    "#Multiplication table (from 1 to 10) in Python\n",
    "\n",
    "num = 12\n",
    "\n",
    "#To take input from the user\n",
    "#num = int(input(\"Display multiplication table of? \"))\n",
    "\n",
    "#Iterate 10 times from i = 1 to 10\n",
    "for i in range(1, 11):\n",
    "   print(num, 'x', i, '=', num*i)\n",
    "   \n",
    "So...below...."
   ]
  },
  {
   "cell_type": "code",
   "execution_count": 23,
   "metadata": {},
   "outputs": [
    {
     "name": "stdout",
     "output_type": "stream",
     "text": [
      "4 multiplied by 0 is 0\n",
      "4 multiplied by 1 is 4\n",
      "4 multiplied by 2 is 8\n",
      "4 multiplied by 3 is 12\n",
      "4 multiplied by 4 is 16\n",
      "4 multiplied by 5 is 20\n",
      "4 multiplied by 6 is 24\n",
      "4 multiplied by 7 is 28\n",
      "4 multiplied by 8 is 32\n",
      "4 multiplied by 9 is 36\n",
      "4 multiplied by 10 is 40\n"
     ]
    }
   ],
   "source": [
    "four = 4\n",
    "\n",
    "for x in range(0,11):\n",
    "    print(four, ('multiplied by'), x, (\"is\"), four*x)"
   ]
  },
  {
   "cell_type": "markdown",
   "metadata": {},
   "source": [
    "## Variables and data types"
   ]
  },
  {
   "cell_type": "code",
   "execution_count": 24,
   "metadata": {},
   "outputs": [
    {
     "name": "stdout",
     "output_type": "stream",
     "text": [
      "1\n"
     ]
    }
   ],
   "source": [
    "a=1\n",
    "\n",
    "print(a)"
   ]
  },
  {
   "cell_type": "code",
   "execution_count": 29,
   "metadata": {},
   "outputs": [
    {
     "data": {
      "text/plain": [
       "int"
      ]
     },
     "execution_count": 29,
     "metadata": {},
     "output_type": "execute_result"
    }
   ],
   "source": [
    "type(a)"
   ]
  },
  {
   "cell_type": "markdown",
   "metadata": {},
   "source": [
    "Note that we did not need to introduce the variable a in any way. No type was given for the variable. Python automatically detected that the type of a must be int (an integer). We can query the type of a variable with the builtin function type:"
   ]
  },
  {
   "cell_type": "code",
   "execution_count": null,
   "metadata": {},
   "outputs": [],
   "source": []
  },
  {
   "cell_type": "code",
   "execution_count": 30,
   "metadata": {},
   "outputs": [
    {
     "data": {
      "text/plain": [
       "str"
      ]
     },
     "execution_count": 30,
     "metadata": {},
     "output_type": "execute_result"
    }
   ],
   "source": [
    "a='some text'\n",
    "type(a)"
   ]
  },
  {
   "cell_type": "markdown",
   "metadata": {},
   "source": [
    "In Python the type of a variable is not attached to the name of the variable, like in C for instance, but instead with the actual value. This is called dynamic typing.\n",
    "\n",
    "We say that a variable is a name that refers to a value or an object, and the assignment operator binds a variable name to a value.\n",
    "\n",
    "The basic data types in Python are: int,\n",
    "                                    float, \n",
    "                                    complex, \n",
    "                                    str (a string), \n",
    "                                    bool (a boolean with values True and False),\n",
    "                                    bytes"
   ]
  },
  {
   "cell_type": "code",
   "execution_count": 31,
   "metadata": {},
   "outputs": [
    {
     "name": "stdout",
     "output_type": "stream",
     "text": [
      "Result of the comparison: False\n",
      "Complex multiplication: (-4+0j)\n",
      "concatenation\n"
     ]
    }
   ],
   "source": [
    "i=5\n",
    "f=1.5\n",
    "b = i==4\n",
    "print(\"Result of the comparison:\", b)\n",
    "c=0+2j                                 # Note that j denotes the imaginary unit of complex numbers.\n",
    "print(\"Complex multiplication:\", c*c)\n",
    "s=\"conca\" + \"tenation\"\n",
    "print(s)"
   ]
  },
  {
   "cell_type": "code",
   "execution_count": 35,
   "metadata": {},
   "outputs": [
    {
     "name": "stdout",
     "output_type": "stream",
     "text": [
      "5\n",
      "1.5\n",
      "False\n",
      "5\n",
      "2j\n",
      "concatenation\n"
     ]
    }
   ],
   "source": [
    "print(i)\n",
    "print(f)\n",
    "print(b)\n",
    "print(i)\n",
    "print(c)\n",
    "print(s)"
   ]
  },
  {
   "cell_type": "code",
   "execution_count": 36,
   "metadata": {},
   "outputs": [
    {
     "data": {
      "text/plain": [
       "str"
      ]
     },
     "execution_count": 36,
     "metadata": {},
     "output_type": "execute_result"
    }
   ],
   "source": [
    "type(i)\n",
    "type(f)\n",
    "type(b)\n",
    "type(i)\n",
    "type(c)\n",
    "type(s)"
   ]
  },
  {
   "cell_type": "markdown",
   "metadata": {},
   "source": [
    "The names of the types act as conversion operators between types:"
   ]
  },
  {
   "cell_type": "code",
   "execution_count": 1,
   "metadata": {},
   "outputs": [
    {
     "name": "stdout",
     "output_type": "stream",
     "text": [
      "-2\n",
      "2.0\n",
      "123\n",
      "True False\n",
      "234\n"
     ]
    }
   ],
   "source": [
    "print(int(-2.8))\n",
    "print(float(2))\n",
    "print(int(\"123\"))\n",
    "print(bool(-2), bool(0))  # Zero is interpreted as False\n",
    "print(str(234))"
   ]
  },
  {
   "cell_type": "markdown",
   "metadata": {},
   "source": [
    "A byte is a unit of information that can represent numbers between 0 and 255. A byte consists of 8 bits, which can in turn represent either 0 or 1. All the data that is stored on disks or transmitted across the internet are sequences of bytes. Normally we don’t have to care about bytes, since our strings and other variables are automatically converted to a sequence of bytes when needed to. An example of the correspondence between the usual data types and bytes is the characters in a string. A single character is encoded as a sequence of one or more bytes. For example, in the common UTF-8 encoding the character c corresponds to the byte with integer value 99 and the character ä corresponds to sequence of bytes [195, 164]. An example conversion between characters and bytes:"
   ]
  },
  {
   "cell_type": "code",
   "execution_count": null,
   "metadata": {},
   "outputs": [],
   "source": []
  },
  {
   "cell_type": "code",
   "execution_count": 3,
   "metadata": {},
   "outputs": [
    {
     "name": "stdout",
     "output_type": "stream",
     "text": [
      "b'\\xc3\\xa4'\n",
      "[195, 164]\n"
     ]
    }
   ],
   "source": [
    "b=\"ä\".encode(\"utf-8\")    # Covert charactor(s) to a sequence of bytes\n",
    "print(b)                 # Prints bytes in hexadecial notation - hexadecimal:16進数/進法\n",
    "print(list(b))           # Prints bytes in decimal notation"
   ]
  },
  {
   "cell_type": "code",
   "execution_count": 5,
   "metadata": {},
   "outputs": [
    {
     "data": {
      "text/plain": [
       "'ä'"
      ]
     },
     "execution_count": 5,
     "metadata": {},
     "output_type": "execute_result"
    }
   ],
   "source": [
    "bytes.decode(b, \"utf-8\")  # Convert sequence of bytes to character(s)"
   ]
  },
  {
   "cell_type": "code",
   "execution_count": null,
   "metadata": {},
   "outputs": [],
   "source": []
  },
  {
   "cell_type": "markdown",
   "metadata": {},
   "source": [
    "## Createing Strings"
   ]
  },
  {
   "cell_type": "markdown",
   "metadata": {},
   "source": [
    "A string is a sequence of characters commonly used to store input or output data in a program. The characters of a string are specified either between single (') or double (\") quotes. This optionality is useful if, for example, a string needs to contain a quotation mark: “I don’t want to go!”. You can also achieve this by escaping the quotation mark with the backslash: ‘I don’t want to go’.\n",
    "\n",
    "The string can also contain other escape sequences like \\n for newline and \\t for a tabulator. See literals for a list of all escape sequences."
   ]
  },
  {
   "cell_type": "code",
   "execution_count": 7,
   "metadata": {},
   "outputs": [
    {
     "name": "stdout",
     "output_type": "stream",
     "text": [
      "One\tTwo\n",
      "Three\tFour\n"
     ]
    }
   ],
   "source": [
    "print(\"One\\tTwo\\nThree\\tFour\")"
   ]
  },
  {
   "cell_type": "markdown",
   "metadata": {},
   "source": [
    "A string containing newlines can be easily given within triple double or triple single quotes:"
   ]
  },
  {
   "cell_type": "code",
   "execution_count": 13,
   "metadata": {},
   "outputs": [],
   "source": [
    "s=\"\"\"A string\n",
    "spanning over\n",
    "sevral lines\"\"\""
   ]
  },
  {
   "cell_type": "code",
   "execution_count": null,
   "metadata": {},
   "outputs": [],
   "source": []
  },
  {
   "cell_type": "markdown",
   "metadata": {},
   "source": [
    "Although we can concatenate strings using the + operator, for effiency reasons, one should use the join method to concatenate larger number of strings:"
   ]
  },
  {
   "cell_type": "code",
   "execution_count": 16,
   "metadata": {},
   "outputs": [
    {
     "name": "stdout",
     "output_type": "stream",
     "text": [
      "firstsecond\n",
      "first second second first\n"
     ]
    }
   ],
   "source": [
    "a=\"first\"\n",
    "b=\"second\"\n",
    "print(a+b)\n",
    "print(\" \".join([a, b, b, a]))   # More about the join method later."
   ]
  },
  {
   "cell_type": "markdown",
   "metadata": {},
   "source": [
    "Sometimes printing by concatenation from pieces can be clumsy"
   ]
  },
  {
   "cell_type": "code",
   "execution_count": 25,
   "metadata": {},
   "outputs": [
    {
     "name": "stdout",
     "output_type": "stream",
     "text": [
      "1 plus 3 is equal to 4\n",
      "1 plus 3 is equal to 4\n"
     ]
    }
   ],
   "source": [
    "print(str(1) + \" plus \" + str(3) + \" is equal to \" + str(4))\n",
    "# slightly better\n",
    "print(1, \"plus\", 3, \"is equal to\", 4)"
   ]
  },
  {
   "cell_type": "code",
   "execution_count": null,
   "metadata": {},
   "outputs": [],
   "source": []
  },
  {
   "cell_type": "markdown",
   "metadata": {},
   "source": [
    "The multiple catenation and quotation characters break the flow of thought. String interpolation offers somewhat easier syntax.\n",
    "\n",
    "There are multiple ways to do sting interpolation:\n",
    "\n",
    "* Python format strings\n",
    "* the format method\n",
    "* f-strings\n",
    "\n",
    "Examples of these can be seen below:"
   ]
  },
  {
   "cell_type": "code",
   "execution_count": 26,
   "metadata": {},
   "outputs": [
    {
     "name": "stdout",
     "output_type": "stream",
     "text": [
      "1 plus 3 is equal to 4\n",
      "1 plus 3 is equal to 4\n",
      "1 plus 3 is equal to 4\n"
     ]
    }
   ],
   "source": [
    "print(\"%i plus %i is equal to %i\" %(1, 3, 4))      # Format syntax\n",
    "\n",
    "print(\"{} plus {} is equal to {}\".format(1, 3, 4)) # Format method\n",
    "\n",
    "print(f\"{1} plus {3} is equal to {4}\")             # f-string "
   ]
  },
  {
   "cell_type": "markdown",
   "metadata": {},
   "source": [
    "The i format specifier in the format syntacs corresponds to integers and the specifier f corresponds to floats. When using f-strings or the format method, integers use d instead. In format strings specifiers can usually be omitted and are generally used only when specific formatting is required. For example in f-strings f\"{4:3d}\" would specify the number 4 left padded with spaces to 3 digits.\n",
    "\n",
    "It is often useful to specify the number of decimals when printing floats:"
   ]
  },
  {
   "cell_type": "code",
   "execution_count": 34,
   "metadata": {},
   "outputs": [
    {
     "name": "stdout",
     "output_type": "stream",
     "text": [
      "1.6 1.70 1.800\n",
      "1.6 1.70 1.800\n",
      "1.6 1.70 1.800\n"
     ]
    }
   ],
   "source": [
    "print(\"%.1f %.2f %.3f\" % (1.6, 1.7, 1.8))           # Old style\n",
    "print(\"{:.1f} {:.2f} {:.3f}\".format(1.6, 1.7, 1.8)) # newer style\n",
    "print(f\"{1.6:.1f} {1.7:.2f} {1.8:.3f}\")             # f-string"
   ]
  },
  {
   "cell_type": "markdown",
   "metadata": {},
   "source": [
    "The specifier s is used for strings. An example:"
   ]
  },
  {
   "cell_type": "code",
   "execution_count": 51,
   "metadata": {},
   "outputs": [
    {
     "name": "stdout",
     "output_type": "stream",
     "text": [
      "water concatenated with melon produces watermelon\n",
      "water concatenated with melon produces watermelon\n",
      "water concatenated with melon procudes watermelon\n"
     ]
    }
   ],
   "source": [
    "print(\"%s concatenated with %s produces %s\" % (\"water\", \"melon\", \"water\"+\"melon\"))\n",
    "print(\"{0} concatenated with {1} produces {0}{1}\".format(\"water\", \"melon\"))\n",
    "print(f\"{'water'} concatenated with {'melon'} procudes {'water' + 'melon'}\")"
   ]
  },
  {
   "cell_type": "markdown",
   "metadata": {},
   "source": [
    "Look here for more details about format specifiers, and for comparison between the old and new style of string interpolation.\n",
    "\n",
    "Different ways of string interpolation have different strengths and weaknesses. Generally choosing which to use is a matter of personal preference. On this course examples and model solutions will predominantly use f-strings and the format method."
   ]
  },
  {
   "cell_type": "code",
   "execution_count": null,
   "metadata": {},
   "outputs": [],
   "source": []
  },
  {
   "cell_type": "markdown",
   "metadata": {},
   "source": [
    "## Expressions"
   ]
  },
  {
   "cell_type": "markdown",
   "metadata": {},
   "source": [
    "An expression is a piece of Python code that results in a value. It consists of values combined together with operators. Values can be literals, such as 1, 1.2, \"text\", or variables. Operators include arithmetics operators, comparison operators, function call, indexing, attribute references, among others. Below there are a few examples of expressions:\n",
    "\n",
    "1+2\n",
    "7/(2+0.1)\n",
    "a\n",
    "cos(0)\n",
    "mylist[a]\n",
    "c > 0 and c !=1\n",
    "(1,2,3)\n",
    "a<5\n",
    "obj.attr\n",
    "(-1)**2 == 1"
   ]
  },
  {
   "cell_type": "markdown",
   "metadata": {},
   "source": [
    "Note that in Python the operator // performs integer division and operator / performs float division. The ** operator denotes exponentiation. These operators might therefore behave differently than in many other common languages.\n",
    "\n",
    "As another example the following expression computes the kinetic energy of a non-rotating object: \n",
    "\n",
    "0.5 * mass * velocity**2"
   ]
  },
  {
   "cell_type": "code",
   "execution_count": null,
   "metadata": {},
   "outputs": [],
   "source": []
  },
  {
   "cell_type": "markdown",
   "metadata": {},
   "source": [
    "## Statements"
   ]
  },
  {
   "cell_type": "markdown",
   "metadata": {},
   "source": [
    "Statements are commands that have some effect. For example, a function call (that is not part of another expression) is a statement. Also, the variable assignment is a statement:"
   ]
  },
  {
   "cell_type": "code",
   "execution_count": 57,
   "metadata": {},
   "outputs": [],
   "source": [
    "i = 5\n",
    "i = i+1   # This is a commong idiom to increment the value of i by one\n",
    "i += 1    # This is a short-hand for the above"
   ]
  },
  {
   "cell_type": "markdown",
   "metadata": {},
   "source": [
    "Note that in Python there are no operators ++ or -- unlike in some other languages.\n",
    "\n",
    "It turns out that the operators + - * / // % & | ^ >> << ** have the corresponding augmented assignment operators += -= *= /= //= %= &= |= ^= >>= <<= **=\n",
    "\n",
    "Another large set of statements is the flow-control statements such as if-else, for and while loops. We will look into these in the next sections."
   ]
  },
  {
   "cell_type": "code",
   "execution_count": null,
   "metadata": {},
   "outputs": [],
   "source": []
  },
  {
   "cell_type": "markdown",
   "metadata": {},
   "source": [
    "## Loops for repetitive tasks\n",
    "\n",
    "In Python we have two kinds of loops: while and for. We briefly saw the for loop earlier. Let’s now look at the while loop. A while loop repeats a set of statements while a given condition holds. An example:"
   ]
  },
  {
   "cell_type": "code",
   "execution_count": 62,
   "metadata": {},
   "outputs": [
    {
     "name": "stdout",
     "output_type": "stream",
     "text": [
      "Square of  1 is 1\n",
      "Square of  2 is 4\n",
      "Square of  3 is 9\n",
      "Square of  4 is 16\n",
      "Square of  5 is 25\n",
      "Square of  6 is 36\n",
      "Square of  7 is 49\n",
      "Square of  8 is 64\n",
      "Square of  9 is 81\n",
      "Square of  10 is 100\n",
      "Square of  11 is 121\n",
      "Square of  12 is 144\n",
      "Square of  13 is 169\n",
      "Square of  14 is 196\n",
      "Square of  15 is 225\n",
      "Square of  16 is 256\n",
      "Square of  17 is 289\n",
      "Square of  18 is 324\n",
      "Square of  19 is 361\n",
      "Square of  20 is 400\n",
      "Square of  21 is 441\n",
      "Square of  22 is 484\n",
      "Square of  23 is 529\n",
      "Square of  24 is 576\n",
      "Square of  25 is 625\n",
      "Square of  26 is 676\n",
      "Square of  27 is 729\n",
      "Square of  28 is 784\n",
      "Square of  29 is 841\n",
      "Square of  30 is 900\n",
      "Square of  31 is 961\n",
      "Finished printing all the squares below 1000.\n"
     ]
    }
   ],
   "source": [
    "i=1\n",
    "while i*i <1000:\n",
    "    print(\"Square of \", i, \"is\", i*i)\n",
    "    i = i+1\n",
    "print(\"Finished printing all the squares below 1000.\")"
   ]
  },
  {
   "cell_type": "markdown",
   "metadata": {},
   "source": [
    "Note again that the body of the while statement was marked with the indentation.\n",
    "\n",
    "Another way of repeating statements is with the for statement. An example:"
   ]
  },
  {
   "cell_type": "code",
   "execution_count": 48,
   "metadata": {},
   "outputs": [
    {
     "name": "stdout",
     "output_type": "stream",
     "text": [
      "the sum is 45\n"
     ]
    }
   ],
   "source": [
    "s=0\n",
    "for i in [0,1,2,3,4,5,6,7,8,9]:\n",
    "    s = s + i                            # Meaning 0+0, 0+1, 0+2,....0+9\n",
    "print(\"the sum is\", s)"
   ]
  },
  {
   "cell_type": "markdown",
   "metadata": {},
   "source": [
    "The for loop executes the statements in the block as many times as there are elements in the given list. At each iteration the variable i refers to another value from the list in order. Instead of the giving the list explicitly as above, we could have used the generator range(10) which returns values from the sequence 0,1,…,9 as the for loop asks for a new value. In the most general form the for loop goes through all the elements in an iterable. Besides lists and generators there are other iterables. We will talk about iterables and generators later this week.\n",
    "\n",
    "When one wants to iterate through all the elements in an iterable, then the for loop is a natural choice. But sometimes while loops offer cleaner solution. For instance, if we want to go through all Fibonacci numbers up till a given limit, then it is easier to do with a while loop."
   ]
  },
  {
   "cell_type": "code",
   "execution_count": null,
   "metadata": {},
   "outputs": [],
   "source": []
  },
  {
   "cell_type": "markdown",
   "metadata": {},
   "source": [
    "## Exercise 4 (multiplication table)\n",
    "\n",
    "In the main function print a multiplication table, which is shown below:"
   ]
  },
  {
   "cell_type": "code",
   "execution_count": 59,
   "metadata": {},
   "outputs": [
    {
     "name": "stdout",
     "output_type": "stream",
     "text": [
      "['n_row']\n",
      "['n_row', 'n_row']\n",
      "['n_row', 'n_row', 'n_row']\n",
      "['n_row', 'n_row', 'n_row', 'n_row']\n",
      "['n_row', 'n_row', 'n_row', 'n_row', 'n_row']\n",
      "['n_row', 'n_row', 'n_row', 'n_row', 'n_row', 'n_row']\n",
      "['n_row', 'n_row', 'n_row', 'n_row', 'n_row', 'n_row', 'n_row']\n",
      "['n_row', 'n_row', 'n_row', 'n_row', 'n_row', 'n_row', 'n_row', 'n_row']\n",
      "['n_row', 'n_row', 'n_row', 'n_row', 'n_row', 'n_row', 'n_row', 'n_row', 'n_row']\n",
      "['n_row', 'n_row', 'n_row', 'n_row', 'n_row', 'n_row', 'n_row', 'n_row', 'n_row', 'n_row']\n"
     ]
    }
   ],
   "source": [
    "col = 1,2,3,4,5,6,7,8,9,10\n",
    "n_row = [('1','2','3','4','5','6','7','8','9','10')]\n",
    "\n",
    "for col in [1,2,3,4,5,6,7,8,9,10]:\n",
    "    s = [\"n_row\"]*col \n",
    "    \n",
    "    print(s)\n"
   ]
  },
  {
   "cell_type": "markdown",
   "metadata": {},
   "source": [
    "No crue so use \n",
    "https://stackoverflow.com/questions/57312106/printing-a-neat-looking-multiplication-table-with-the-format-method"
   ]
  },
  {
   "cell_type": "code",
   "execution_count": 34,
   "metadata": {},
   "outputs": [
    {
     "name": "stdout",
     "output_type": "stream",
     "text": [
      "       1   2   3   4   5   6   7   8   9   10   11   12\n",
      " :-----------------------------------------------------\n",
      "1:     1   2   3   4   5   6   7   8   9  10  11  12\n",
      "2:     2   4   6   8  10  12  14  16  18  20  22  24\n",
      "3:     3   6   9  12  15  18  21  24  27  30  33  36\n",
      "4:     4   8  12  16  20  24  28  32  36  40  44  48\n",
      "5:     5  10  15  20  25  30  35  40  45  50  55  60\n",
      "6:     6  12  18  24  30  36  42  48  54  60  66  72\n",
      "7:     7  14  21  28  35  42  49  56  63  70  77  84\n",
      "8:     8  16  24  32  40  48  56  64  72  80  88  96\n",
      "9:     9  18  27  36  45  54  63  72  81  90  99 108\n",
      "10:    10  20  30  40  50  60  70  80  90 100 110 120\n",
      "11:    11  22  33  44  55  66  77  88  99 110 121 132\n",
      "12:    12  24  36  48  60  72  84  96 108 120 132 144\n"
     ]
    }
   ],
   "source": [
    "layout = \"{0:>8}{1:>4}{2:>4}{3:>4}{4:>4}{5:>4}{6:>4}\" \\\n",
    "         \"{7:>4}{8:>4}{9:>5}{10:>5}{11:>5}\"\n",
    "\n",
    "layout2 = \"{0:>1}{1:>6}{2:>4}{3:>4}{4:>4}{5:>4}\" \\\n",
    "          \"{6:>4}{7:>4}{8:>4}{9:>4}{10:>4}{11:>4}{12:>4}\"\n",
    "\n",
    "print(layout.format(1, 2, 3, 4, 5, 6, 7, 8, 9, 10, 11, 12))\n",
    "print(\" :-----------------------------------------------------\")\n",
    "\n",
    "for i in range(1, 13):\n",
    "    print(layout2.format(str(i) + \":\", i*1, i*2, i*3, i*4, i*5, i*6,\n",
    "                         i*7, i*8, i*9, i*10, i*11, i*12))"
   ]
  },
  {
   "cell_type": "markdown",
   "metadata": {},
   "source": [
    "But I do not need the layout ...."
   ]
  },
  {
   "cell_type": "code",
   "execution_count": 84,
   "metadata": {},
   "outputs": [
    {
     "name": "stdout",
     "output_type": "stream",
     "text": [
      "1 2 3 4 5 6 7 8 9 10\n",
      "2 4 6 8 10 12 14 16 18 20\n",
      "3 6 9 12 15 18 21 24 27 30\n",
      "4 8 12 16 20 24 28 32 36 40\n",
      "5 10 15 20 25 30 35 40 45 50\n",
      "6 12 18 24 30 36 42 48 54 60\n",
      "7 14 21 28 35 42 49 56 63 70\n",
      "8 16 24 32 40 48 56 64 72 80\n",
      "9 18 27 36 45 54 63 72 81 90\n",
      "10 20 30 40 50 60 70 80 90 100\n"
     ]
    }
   ],
   "source": [
    "for i in range(1, 11):\n",
    "    print(i*1, i*2, i*3, i*4, i*5, i*6, i*7, i*8, i*9, i*10)"
   ]
  },
  {
   "cell_type": "markdown",
   "metadata": {},
   "source": [
    "It woks but still the line is not that organized as like the example... \"Print the numbers in a field with width four, so that the numbers are nicely aligned.\" ugh..."
   ]
  },
  {
   "cell_type": "code",
   "execution_count": 33,
   "metadata": {},
   "outputs": [
    {
     "name": "stdout",
     "output_type": "stream",
     "text": [
      "       1   2   3   4   5   6   7   8   9  10\n",
      "       2   4   6   8  10  12  14  16  18  20\n",
      "       3   6   9  12  15  18  21  24  27  30\n",
      "       4   8  12  16  20  24  28  32  36  40\n",
      "       5  10  15  20  25  30  35  40  45  50\n",
      "       6  12  18  24  30  36  42  48  54  60\n",
      "       7  14  21  28  35  42  49  56  63  70\n",
      "       8  16  24  32  40  48  56  64  72  80\n",
      "       9  18  27  36  45  54  63  72  81  90\n",
      "      10  20  30  40  50  60  70  80  90 100\n"
     ]
    }
   ],
   "source": [
    "layout = \"{0:>8}{1:>4}{2:>4}{3:>4}{4:>4}{5:>4}{6:>4}\" \\\n",
    "         \"{7:>4}{8:>4}{9:>4}\"\n",
    "\n",
    "layout2 = \"{0:>8}{1:>4}{2:>4}{3:>4}{4:>4}{5:>4}\" \\\n",
    "          \"{6:>4}{7:>4}{8:>4}{9:>4}\"\n",
    "\n",
    "print(layout.format(1, 2, 3, 4, 5, 6, 7, 8, 9, 10))\n",
    "\n",
    "for i in range(2, 11):\n",
    "    print(layout2.format(i*1, i*2, i*3, i*4, i*5, i*6, i*7, i*8, i*9, i*10))"
   ]
  },
  {
   "cell_type": "markdown",
   "metadata": {},
   "source": [
    "Finlally, I could print something above looked same as the example.\n",
    "But I should have used two of loops... \"Use two nested for loops to achive this.\"\n",
    "\n",
    "\n",
    "Also...\n",
    "\n",
    "\"\n",
    "Note that you can use the following form to stop the print function\n",
    "from automatically starting a new line:\n",
    "\n",
    "print(\"text\", end=\"\")\n",
    "print(\"more text\")\n",
    "textmore text    ← I don't know what is this mean...\n",
    "\n",
    "Print the numbers in a field with width four, so that the numbers are nicely aligned. For instructions on how adjust the field width refer to pyformat.info."
   ]
  },
  {
   "cell_type": "markdown",
   "metadata": {},
   "source": [
    "## Below is suggested by Tora-Sensei !"
   ]
  },
  {
   "cell_type": "code",
   "execution_count": 1,
   "metadata": {},
   "outputs": [
    {
     "name": "stdout",
     "output_type": "stream",
     "text": [
      "1   2   3   4   5   6   7   8   9   10  \n",
      "2   4   6   8   10  12  14  16  18  20  \n",
      "3   6   9   12  15  18  21  24  27  30  \n",
      "4   8   12  16  20  24  28  32  36  40  \n",
      "5   10  15  20  25  30  35  40  45  50  \n",
      "6   12  18  24  30  36  42  48  54  60  \n",
      "7   14  21  28  35  42  49  56  63  70  \n",
      "8   16  24  32  40  48  56  64  72  80  \n",
      "9   18  27  36  45  54  63  72  81  90  \n",
      "10  20  30  40  50  60  70  80  90  100 \n"
     ]
    }
   ],
   "source": [
    "for i in range(1, 11):\n",
    "    line = list()\n",
    "    \n",
    "    for j in range(1,11):\n",
    "        line.append(i*j)\n",
    "        \n",
    "    str_line = ['{:<4}'.format(k) for k in line]\n",
    "    # print(str_line)\n",
    "    print(''.join(str_line))"
   ]
  },
  {
   "cell_type": "code",
   "execution_count": null,
   "metadata": {},
   "outputs": [],
   "source": []
  },
  {
   "cell_type": "markdown",
   "metadata": {},
   "source": [
    "## Decision making with the if statement\n",
    "\n",
    "The if-else statement works as can be expected. Try running the below cell by pressing control+enter."
   ]
  },
  {
   "cell_type": "code",
   "execution_count": 3,
   "metadata": {},
   "outputs": [
    {
     "name": "stdout",
     "output_type": "stream",
     "text": [
      "Give an interger: 2\n",
      "The absolute value of 2 is 2\n"
     ]
    }
   ],
   "source": [
    "x=input(\"Give an interger: \")\n",
    "x=int(x)\n",
    "if x >= 0:\n",
    "    a=x\n",
    "else:\n",
    "    a=-x\n",
    "print(\"The absolute value of %i is %i\" %(x,a))\n",
    "\n"
   ]
  },
  {
   "cell_type": "markdown",
   "metadata": {},
   "source": [
    "The general from of an if-else statement is\n",
    "\n",
    "if condition1:\n",
    "    statement1_1\n",
    "    statement1_2\n",
    "    ...\n",
    "elif condition2:\n",
    "    statement2_1\n",
    "    statement2_2\n",
    "    ...\n",
    "...\n",
    "else:\n",
    "    statementn_1\n",
    "    statementn_2\n",
    "    ..."
   ]
  },
  {
   "cell_type": "markdown",
   "metadata": {},
   "source": [
    "Another example:"
   ]
  },
  {
   "cell_type": "code",
   "execution_count": 4,
   "metadata": {},
   "outputs": [
    {
     "name": "stdout",
     "output_type": "stream",
     "text": [
      "Gime a number:4.3\n",
      "c is positive\n"
     ]
    }
   ],
   "source": [
    "c=float(input(\"Gime a number:\"))\n",
    "if c > 0:\n",
    "    print(\"c is positive\")\n",
    "elif c < 0:\n",
    "    print(\"c is negative\")\n",
    "else:\n",
    "    print (\"c is zero\")\n",
    "    "
   ]
  },
  {
   "cell_type": "markdown",
   "metadata": {},
   "source": [
    "## Breaking and continuing loop\n",
    "\n",
    "Breaking the loop, when the wanted element is found, with the break statement:"
   ]
  },
  {
   "cell_type": "code",
   "execution_count": 5,
   "metadata": {},
   "outputs": [
    {
     "name": "stdout",
     "output_type": "stream",
     "text": [
      "THe first negative list element was -1\n"
     ]
    }
   ],
   "source": [
    "l=[1,3,65,3,-1,56,-10]\n",
    "for x in l:\n",
    "    if x < 0:\n",
    "        break\n",
    "print(\"The first negative list element was\", x)"
   ]
  },
  {
   "cell_type": "markdown",
   "metadata": {},
   "source": [
    "### Stopping current iteration and continuing to the next one with the continue statement:"
   ]
  },
  {
   "cell_type": "code",
   "execution_count": 6,
   "metadata": {},
   "outputs": [
    {
     "name": "stdout",
     "output_type": "stream",
     "text": [
      "Square root of 1 is 1.000\n",
      "Natural logarithm of 1 is 0.0000\n",
      "Square root of 3 is 1.732\n",
      "Natural logarithm of 3 is 1.0986\n",
      "Square root of 65 is 8.062\n",
      "Natural logarithm of 65 is 4.1744\n",
      "Square root of 3 is 1.732\n",
      "Natural logarithm of 3 is 1.0986\n",
      "Square root of 56 is 7.483\n",
      "Natural logarithm of 56 is 4.0254\n"
     ]
    }
   ],
   "source": [
    "from math import sqrt, log\n",
    "l=[1,3,65,3,-1, 56,-10]\n",
    "for x in l:\n",
    "    if x < 0:\n",
    "        continue\n",
    "    print(f\"Square root of {x} is {sqrt(x):.3f}\")\n",
    "    print(f\"Natural logarithm of {x} is {log(x):.4f}\")"
   ]
  },
  {
   "cell_type": "code",
   "execution_count": null,
   "metadata": {},
   "outputs": [],
   "source": []
  },
  {
   "cell_type": "markdown",
   "metadata": {},
   "source": [
    "# Exercise 5 (two dice)\n",
    "\n",
    "Let us consider throwing two dice. (A dice can give a value between 1 and 6.) Use two nested for loops in the main function to iterate through all possible combinations the pair of dice can give. There are 36 possible combinations. Print all those combinations as (ordered) pairs that sum to 5. For example, your printout should include the pair (2,3). Print one pair per line."
   ]
  },
  {
   "cell_type": "code",
   "execution_count": 54,
   "metadata": {},
   "outputs": [
    {
     "ename": "IndentationError",
     "evalue": "expected an indented block (<ipython-input-54-12f1d3ee8c1b>, line 6)",
     "output_type": "error",
     "traceback": [
      "\u001b[0;36m  File \u001b[0;32m\"<ipython-input-54-12f1d3ee8c1b>\"\u001b[0;36m, line \u001b[0;32m6\u001b[0m\n\u001b[0;31m    print(a)\u001b[0m\n\u001b[0m            ^\u001b[0m\n\u001b[0;31mIndentationError\u001b[0m\u001b[0;31m:\u001b[0m expected an indented block\n"
     ]
    }
   ],
   "source": [
    "a=[1,2,3,4,5,6]\n",
    "b=[1,2,3,4,5,6]\n",
    "for x in a and y in b:\n",
    "    if x + y == 5:\n",
    "    "
   ]
  },
  {
   "cell_type": "code",
   "execution_count": 28,
   "metadata": {},
   "outputs": [
    {
     "ename": "SyntaxError",
     "evalue": "invalid syntax (<ipython-input-28-ca53aef5ff3b>, line 9)",
     "output_type": "error",
     "traceback": [
      "\u001b[0;36m  File \u001b[0;32m\"<ipython-input-28-ca53aef5ff3b>\"\u001b[0;36m, line \u001b[0;32m9\u001b[0m\n\u001b[0;31m    if x+y=5:\u001b[0m\n\u001b[0m          ^\u001b[0m\n\u001b[0;31mSyntaxError\u001b[0m\u001b[0;31m:\u001b[0m invalid syntax\n"
     ]
    }
   ],
   "source": [
    "\n",
    "\n",
    "x = [1,2,3,4,5,6]\n",
    "y = [1,2,3,4,5,6]\n",
    "\n",
    "print(x)\n",
    "print(y)\n",
    "\n",
    "for a in x + b in y:\n",
    "    \n",
    "    if x+y=5:\n",
    "        print(a)\n",
    "\n",
    "    \n",
    "    \n",
    "\"\"\"\n",
    "for a in x and b in y:\n",
    "\n",
    "print(x)\n",
    "    \n",
    "    \n",
    "    \n",
    "\n",
    "    if x + y = 5:\n",
    "        print(x + y)\n",
    "    \n",
    "    \"\"\""
   ]
  },
  {
   "cell_type": "code",
   "execution_count": 35,
   "metadata": {},
   "outputs": [
    {
     "ename": "SyntaxError",
     "evalue": "invalid syntax (<ipython-input-35-2851125375e6>, line 4)",
     "output_type": "error",
     "traceback": [
      "\u001b[0;36m  File \u001b[0;32m\"<ipython-input-35-2851125375e6>\"\u001b[0;36m, line \u001b[0;32m4\u001b[0m\n\u001b[0;31m    if a+b=5:\u001b[0m\n\u001b[0m          ^\u001b[0m\n\u001b[0;31mSyntaxError\u001b[0m\u001b[0;31m:\u001b[0m invalid syntax\n"
     ]
    }
   ],
   "source": [
    "f=[1,2,3,4,5,6]\n",
    "s=[1,2,3,4,5,6]\n",
    "for a in f and b in s:\n",
    "    if a+b=5:\n",
    "    print(a+b)\n",
    "        "
   ]
  },
  {
   "cell_type": "code",
   "execution_count": 34,
   "metadata": {},
   "outputs": [],
   "source": [
    "\n",
    "def dice(n):\n",
    "    x=random.randint(1,6)\n",
    "    y=random.randint(1,6)\n",
    "    for i in range(1,6):\n",
    "        sum_of_five=x+y\n",
    "    print(sum_of_five)"
   ]
  },
  {
   "cell_type": "code",
   "execution_count": null,
   "metadata": {},
   "outputs": [],
   "source": []
  },
  {
   "cell_type": "markdown",
   "metadata": {},
   "source": [
    "## All permutations of dice with a set range and sum\n",
    "\n",
    "I need to find out all the permutations of 10 dice (n) that sum up to 35 (m). I am new to python and got stuck on the for loop. This is what I've got so far:"
   ]
  },
  {
   "cell_type": "code",
   "execution_count": 56,
   "metadata": {},
   "outputs": [
    {
     "name": "stdout",
     "output_type": "stream",
     "text": [
      "[]\n"
     ]
    }
   ],
   "source": [
    "\n",
    "import itertools\n",
    "\n",
    "dice = [1,2,3,4,5,6]\n",
    "\n",
    "#10(n) is the number of dice throughting at once... 35(m) is the sum of the two dice facing up... \n",
    "\n",
    "def subsets(n, m):\n",
    "    perms = itertools.combinations_with_replacement(dice, n)\n",
    "    for i in perms:\n",
    "        if sum(i) == m:\n",
    "            yield i\n",
    "        else:\n",
    "            return\n",
    "\n",
    "print(list(subsets(2,5)))"
   ]
  },
  {
   "cell_type": "code",
   "execution_count": null,
   "metadata": {},
   "outputs": [],
   "source": []
  },
  {
   "cell_type": "code",
   "execution_count": null,
   "metadata": {},
   "outputs": [],
   "source": []
  },
  {
   "cell_type": "code",
   "execution_count": 69,
   "metadata": {},
   "outputs": [
    {
     "name": "stdout",
     "output_type": "stream",
     "text": [
      "2   3   4   5   6   7   \n",
      "3   4   5   6   7   8   \n",
      "4   5   6   7   8   9   \n",
      "5   6   7   8   9   10  \n",
      "6   7   8   9   10  11  \n",
      "7   8   9   10  11  12  \n"
     ]
    }
   ],
   "source": [
    "for i in range(1, 7):\n",
    "    line = list()\n",
    "    #list(i+j) = 5\n",
    "    \n",
    "    for j in range(1,7):\n",
    "        line.append(i+j)\n",
    "        \n",
    "    str_line = ['{:<4}'.format(k) for k in line]\n",
    "    # print(str_line)\n",
    "    print(''.join(str_line))"
   ]
  }
 ],
 "metadata": {
  "kernelspec": {
   "display_name": "Python 3",
   "language": "python",
   "name": "python3"
  },
  "language_info": {
   "codemirror_mode": {
    "name": "ipython",
    "version": 3
   },
   "file_extension": ".py",
   "mimetype": "text/x-python",
   "name": "python",
   "nbconvert_exporter": "python",
   "pygments_lexer": "ipython3",
   "version": "3.7.7"
  }
 },
 "nbformat": 4,
 "nbformat_minor": 4
}
